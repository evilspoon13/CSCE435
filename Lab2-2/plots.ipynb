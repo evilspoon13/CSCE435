{
 "cells": [
  {
   "cell_type": "code",
   "execution_count": 7,
   "metadata": {},
   "outputs": [
    {
     "ename": "ImportError",
     "evalue": "failed to find libmagic.  Check your installation",
     "output_type": "error",
     "traceback": [
      "\u001b[31m---------------------------------------------------------------------------\u001b[39m",
      "\u001b[31mImportError\u001b[39m                               Traceback (most recent call last)",
      "\u001b[36mCell\u001b[39m\u001b[36m \u001b[39m\u001b[32mIn[7]\u001b[39m\u001b[32m, line 8\u001b[39m\n\u001b[32m      5\u001b[39m \u001b[38;5;28;01mimport\u001b[39;00m\u001b[38;5;250m \u001b[39m\u001b[34;01mmatplotlib\u001b[39;00m\u001b[34;01m.\u001b[39;00m\u001b[34;01mpyplot\u001b[39;00m\u001b[38;5;250m \u001b[39m\u001b[38;5;28;01mas\u001b[39;00m\u001b[38;5;250m \u001b[39m\u001b[34;01mplt\u001b[39;00m\n\u001b[32m      6\u001b[39m \u001b[38;5;28;01mimport\u001b[39;00m\u001b[38;5;250m \u001b[39m\u001b[34;01mpandas\u001b[39;00m\u001b[38;5;250m \u001b[39m\u001b[38;5;28;01mas\u001b[39;00m\u001b[38;5;250m \u001b[39m\u001b[34;01mpd\u001b[39;00m\n\u001b[32m----> \u001b[39m\u001b[32m8\u001b[39m \u001b[38;5;28;01mimport\u001b[39;00m\u001b[38;5;250m \u001b[39m\u001b[34;01mthicket\u001b[39;00m\u001b[38;5;250m \u001b[39m\u001b[38;5;28;01mas\u001b[39;00m\u001b[38;5;250m \u001b[39m\u001b[34;01mth\u001b[39;00m\n\u001b[32m     10\u001b[39m pd.set_option(\u001b[33m\"\u001b[39m\u001b[33mdisplay.max_rows\u001b[39m\u001b[33m\"\u001b[39m, \u001b[38;5;28;01mNone\u001b[39;00m)\n\u001b[32m     11\u001b[39m pd.set_option(\u001b[33m\"\u001b[39m\u001b[33mdisplay.max_columns\u001b[39m\u001b[33m\"\u001b[39m, \u001b[38;5;28;01mNone\u001b[39;00m)\n",
      "\u001b[36mFile \u001b[39m\u001b[32mc:\\Users\\Cameron\\dev\\school\\CSCE435\\Lab2-2\\.venv\\Lib\\site-packages\\thicket\\__init__.py:2\u001b[39m\n\u001b[32m      1\u001b[39m \u001b[38;5;66;03m#!/usr/bin/env python\u001b[39;00m\n\u001b[32m----> \u001b[39m\u001b[32m2\u001b[39m \u001b[38;5;28;01mfrom\u001b[39;00m\u001b[38;5;250m \u001b[39m\u001b[34;01mthicket\u001b[39;00m\u001b[34;01m.\u001b[39;00m\u001b[34;01mfinders\u001b[39;00m\u001b[38;5;250m \u001b[39m\u001b[38;5;28;01mimport\u001b[39;00m list_files  \u001b[38;5;66;03m# noqa: F401\u001b[39;00m\n\u001b[32m      3\u001b[39m \u001b[38;5;28;01mfrom\u001b[39;00m\u001b[38;5;250m \u001b[39m\u001b[34;01mthicket\u001b[39;00m\u001b[34;01m.\u001b[39;00m\u001b[34;01mfinders\u001b[39;00m\u001b[38;5;250m \u001b[39m\u001b[38;5;28;01mimport\u001b[39;00m list_dirs  \u001b[38;5;66;03m# noqa: F401\u001b[39;00m\n\u001b[32m      4\u001b[39m \u001b[38;5;28;01mfrom\u001b[39;00m\u001b[38;5;250m \u001b[39m\u001b[34;01mthicket\u001b[39;00m\u001b[34;01m.\u001b[39;00m\u001b[34;01mfiles\u001b[39;00m\u001b[38;5;250m \u001b[39m\u001b[38;5;28;01mimport\u001b[39;00m File  \u001b[38;5;66;03m# noqa: F401\u001b[39;00m\n",
      "\u001b[36mFile \u001b[39m\u001b[32mc:\\Users\\Cameron\\dev\\school\\CSCE435\\Lab2-2\\.venv\\Lib\\site-packages\\thicket\\finders.py:5\u001b[39m\n\u001b[32m      2\u001b[39m \u001b[38;5;28;01mimport\u001b[39;00m\u001b[38;5;250m \u001b[39m\u001b[34;01mos\u001b[39;00m\n\u001b[32m      4\u001b[39m \u001b[38;5;28;01mfrom\u001b[39;00m\u001b[38;5;250m \u001b[39m\u001b[34;01mthicket\u001b[39;00m\u001b[34;01m.\u001b[39;00m\u001b[34;01mcollection\u001b[39;00m\u001b[38;5;250m \u001b[39m\u001b[38;5;28;01mimport\u001b[39;00m Collection\n\u001b[32m----> \u001b[39m\u001b[32m5\u001b[39m \u001b[38;5;28;01mfrom\u001b[39;00m\u001b[38;5;250m \u001b[39m\u001b[34;01mthicket\u001b[39;00m\u001b[34;01m.\u001b[39;00m\u001b[34;01mprocessors\u001b[39;00m\u001b[38;5;250m \u001b[39m\u001b[38;5;28;01mimport\u001b[39;00m PathProcessor\n\u001b[32m      8\u001b[39m \u001b[38;5;28;01mdef\u001b[39;00m\u001b[38;5;250m \u001b[39m\u001b[34mlist_dirs\u001b[39m(path=\u001b[33m'\u001b[39m\u001b[33m.\u001b[39m\u001b[33m'\u001b[39m, recursive=\u001b[38;5;28;01mTrue\u001b[39;00m, include_parent_dir=\u001b[38;5;28;01mFalse\u001b[39;00m):\n\u001b[32m      9\u001b[39m     \u001b[38;5;28;01mif\u001b[39;00m recursive:\n",
      "\u001b[36mFile \u001b[39m\u001b[32mc:\\Users\\Cameron\\dev\\school\\CSCE435\\Lab2-2\\.venv\\Lib\\site-packages\\thicket\\processors.py:5\u001b[39m\n\u001b[32m      2\u001b[39m \u001b[38;5;28;01mimport\u001b[39;00m\u001b[38;5;250m \u001b[39m\u001b[34;01mos\u001b[39;00m\n\u001b[32m      4\u001b[39m \u001b[38;5;28;01mfrom\u001b[39;00m\u001b[38;5;250m \u001b[39m\u001b[34;01mthicket\u001b[39;00m\u001b[34;01m.\u001b[39;00m\u001b[34;01mdirs\u001b[39;00m\u001b[38;5;250m \u001b[39m\u001b[38;5;28;01mimport\u001b[39;00m Directory\n\u001b[32m----> \u001b[39m\u001b[32m5\u001b[39m \u001b[38;5;28;01mfrom\u001b[39;00m\u001b[38;5;250m \u001b[39m\u001b[34;01mthicket\u001b[39;00m\u001b[34;01m.\u001b[39;00m\u001b[34;01mfiles\u001b[39;00m\u001b[38;5;250m \u001b[39m\u001b[38;5;28;01mimport\u001b[39;00m File\n\u001b[32m      6\u001b[39m \u001b[38;5;28;01mfrom\u001b[39;00m\u001b[38;5;250m \u001b[39m\u001b[34;01mthicket\u001b[39;00m\u001b[34;01m.\u001b[39;00m\u001b[34;01mpaths\u001b[39;00m\u001b[38;5;250m \u001b[39m\u001b[38;5;28;01mimport\u001b[39;00m Path\n\u001b[32m      7\u001b[39m \u001b[38;5;28;01mfrom\u001b[39;00m\u001b[38;5;250m \u001b[39m\u001b[34;01mthicket\u001b[39;00m\u001b[34;01m.\u001b[39;00m\u001b[34;01mvideos\u001b[39;00m\u001b[38;5;250m \u001b[39m\u001b[38;5;28;01mimport\u001b[39;00m VideoFile\n",
      "\u001b[36mFile \u001b[39m\u001b[32mc:\\Users\\Cameron\\dev\\school\\CSCE435\\Lab2-2\\.venv\\Lib\\site-packages\\thicket\\files.py:7\u001b[39m\n\u001b[32m      4\u001b[39m \u001b[38;5;28;01mimport\u001b[39;00m\u001b[38;5;250m \u001b[39m\u001b[34;01mshutil\u001b[39;00m\n\u001b[32m      5\u001b[39m \u001b[38;5;28;01mfrom\u001b[39;00m\u001b[38;5;250m \u001b[39m\u001b[34;01mos\u001b[39;00m\u001b[34;01m.\u001b[39;00m\u001b[34;01mpath\u001b[39;00m\u001b[38;5;250m \u001b[39m\u001b[38;5;28;01mimport\u001b[39;00m isfile\n\u001b[32m----> \u001b[39m\u001b[32m7\u001b[39m \u001b[38;5;28;01mimport\u001b[39;00m\u001b[38;5;250m \u001b[39m\u001b[34;01mmagic\u001b[39;00m\n\u001b[32m      8\u001b[39m \u001b[38;5;28;01mimport\u001b[39;00m\u001b[38;5;250m \u001b[39m\u001b[34;01mxxhash\u001b[39;00m\n\u001b[32m     10\u001b[39m \u001b[38;5;28;01mfrom\u001b[39;00m\u001b[38;5;250m \u001b[39m\u001b[34;01mthicket\u001b[39;00m\u001b[34;01m.\u001b[39;00m\u001b[34;01mpaths\u001b[39;00m\u001b[38;5;250m \u001b[39m\u001b[38;5;28;01mimport\u001b[39;00m Path\n",
      "\u001b[36mFile \u001b[39m\u001b[32mc:\\Users\\Cameron\\dev\\school\\CSCE435\\Lab2-2\\.venv\\Lib\\site-packages\\magic\\__init__.py:209\u001b[39m\n\u001b[32m    206\u001b[39m     \u001b[38;5;28;01mreturn\u001b[39;00m m.from_descriptor(fd)\n\u001b[32m    208\u001b[39m \u001b[38;5;28;01mfrom\u001b[39;00m\u001b[38;5;250m \u001b[39m\u001b[34;01m.\u001b[39;00m\u001b[38;5;250m \u001b[39m\u001b[38;5;28;01mimport\u001b[39;00m loader\n\u001b[32m--> \u001b[39m\u001b[32m209\u001b[39m libmagic = \u001b[43mloader\u001b[49m\u001b[43m.\u001b[49m\u001b[43mload_lib\u001b[49m\u001b[43m(\u001b[49m\u001b[43m)\u001b[49m\n\u001b[32m    211\u001b[39m magic_t = ctypes.c_void_p\n\u001b[32m    214\u001b[39m \u001b[38;5;28;01mdef\u001b[39;00m\u001b[38;5;250m \u001b[39m\u001b[34merrorcheck_null\u001b[39m(result, func, args):\n",
      "\u001b[36mFile \u001b[39m\u001b[32mc:\\Users\\Cameron\\dev\\school\\CSCE435\\Lab2-2\\.venv\\Lib\\site-packages\\magic\\loader.py:49\u001b[39m, in \u001b[36mload_lib\u001b[39m\u001b[34m()\u001b[39m\n\u001b[32m     46\u001b[39m     \u001b[38;5;28;01mpass\u001b[39;00m\n\u001b[32m     47\u001b[39m \u001b[38;5;28;01melse\u001b[39;00m:\n\u001b[32m     48\u001b[39m   \u001b[38;5;66;03m# It is better to raise an ImportError since we are importing magic module\u001b[39;00m\n\u001b[32m---> \u001b[39m\u001b[32m49\u001b[39m   \u001b[38;5;28;01mraise\u001b[39;00m \u001b[38;5;167;01mImportError\u001b[39;00m(\u001b[33m'\u001b[39m\u001b[33mfailed to find libmagic.  Check your installation\u001b[39m\u001b[33m'\u001b[39m)\n",
      "\u001b[31mImportError\u001b[39m: failed to find libmagic.  Check your installation"
     ]
    }
   ],
   "source": [
    "import sys\n",
    "sys.path.append(\"/scratch/group/csce-435-f25/python-3.10.8/lib/python3.10/site-packages\")\n",
    "from glob import glob\n",
    "\n",
    "import matplotlib.pyplot as plt\n",
    "import pandas as pd\n",
    "\n",
    "import thicket as th\n",
    "\n",
    "pd.set_option(\"display.max_rows\", None)\n",
    "pd.set_option(\"display.max_columns\", None)"
   ]
  },
  {
   "cell_type": "markdown",
   "metadata": {},
   "source": [
    "Read all files"
   ]
  },
  {
   "cell_type": "code",
   "execution_count": 6,
   "metadata": {},
   "outputs": [
    {
     "ename": "NameError",
     "evalue": "name 'th' is not defined",
     "output_type": "error",
     "traceback": [
      "\u001b[31m---------------------------------------------------------------------------\u001b[39m",
      "\u001b[31mNameError\u001b[39m                                 Traceback (most recent call last)",
      "\u001b[36mCell\u001b[39m\u001b[36m \u001b[39m\u001b[32mIn[6]\u001b[39m\u001b[32m, line 2\u001b[39m\n\u001b[32m      1\u001b[39m \u001b[38;5;66;03m# Read all .cali files from the current directory or a specific folder\u001b[39;00m\n\u001b[32m----> \u001b[39m\u001b[32m2\u001b[39m tk = \u001b[43mth\u001b[49m.Thicket.from_caliperreader(glob(\u001b[33m\"\u001b[39m\u001b[33m*.cali\u001b[39m\u001b[33m\"\u001b[39m))\n",
      "\u001b[31mNameError\u001b[39m: name 'th' is not defined"
     ]
    }
   ],
   "source": [
    "# Read all .cali files from the current directory or a specific folder\n",
    "tk = th.Thicket.from_caliperreader(glob(\"*.cali\"))"
   ]
  },
  {
   "cell_type": "markdown",
   "metadata": {},
   "source": [
    "View Calltree"
   ]
  },
  {
   "cell_type": "code",
   "execution_count": null,
   "metadata": {},
   "outputs": [],
   "source": [
    "print(tk.tree(metric_column=\"Avg time/rank\"))"
   ]
  },
  {
   "cell_type": "markdown",
   "metadata": {},
   "source": [
    "Group Performance data by `matrix_size` and `num_procs` in the Thicket metadata table."
   ]
  },
  {
   "cell_type": "code",
   "execution_count": null,
   "metadata": {},
   "outputs": [],
   "source": [
    "tk.metadata_column_to_perfdata(\"num_procs\")\n",
    "tk.metadata_column_to_perfdata(\"matrix_size\")\n",
    "\n",
    "tk.dataframe = tk.dataframe.reset_index().set_index([\"node\", \"num_procs\", \"matrix_size\"]).sort_index()\n",
    "\n",
    "tk.dataframe.head()"
   ]
  },
  {
   "cell_type": "code",
   "execution_count": null,
   "metadata": {},
   "outputs": [],
   "source": [
    "# Define common variables\n",
    "processes = [2, 4, 8, 16, 32, 64]\n",
    "matrix_size = 1024"
   ]
  },
  {
   "cell_type": "code",
   "execution_count": null,
   "metadata": {},
   "outputs": [],
   "source": [
    "# Change font size for all plots\n",
    "plt.rcParams.update({\"font.size\": 14})"
   ]
  },
  {
   "cell_type": "markdown",
   "metadata": {},
   "source": [
    "## Worker Process Time Plots for Matrix Size 1024x1024"
   ]
  },
  {
   "cell_type": "code",
   "execution_count": null,
   "metadata": {},
   "outputs": [],
   "source": [
    "# Extract worker receive times\n",
    "worker_receive_data = []\n",
    "for p in processes:\n",
    "    try:\n",
    "        row = tk.dataframe.loc[('worker_recieve', p, matrix_size)]\n",
    "        worker_receive_data.append({\n",
    "            'procs': p,\n",
    "            'min': row['Min time/rank'],\n",
    "            'max': row['Max time/rank'],\n",
    "            'avg': row['Avg time/rank']\n",
    "        })\n",
    "    except KeyError:\n",
    "        print(f\"Warning: No data for worker_recieve with {p} processes\")\n",
    "\n",
    "df_receive = pd.DataFrame(worker_receive_data)\n",
    "\n",
    "# Plot Worker Receive Times\n",
    "fig, ax = plt.subplots(figsize=(12, 7))\n",
    "ax.plot(df_receive['procs'], df_receive['min'], marker='o', linewidth=2, markersize=8, label='Min')\n",
    "ax.plot(df_receive['procs'], df_receive['max'], marker='s', linewidth=2, markersize=8, label='Max')\n",
    "ax.plot(df_receive['procs'], df_receive['avg'], marker='^', linewidth=2, markersize=8, label='Avg')\n",
    "ax.set_xlabel('Number of Processes')\n",
    "ax.set_ylabel('Time (seconds)')\n",
    "ax.set_title(f'Worker Receive Time - Matrix Size {matrix_size}x{matrix_size}')\n",
    "ax.legend()\n",
    "ax.grid(True, alpha=0.3)\n",
    "ax.set_xticks(processes)\n",
    "plt.tight_layout()\n",
    "plt.savefig(f'worker_receive_{matrix_size}.png', dpi=300, bbox_inches='tight')\n",
    "plt.show()"
   ]
  },
  {
   "cell_type": "code",
   "execution_count": null,
   "metadata": {},
   "outputs": [],
   "source": [
    "# Extract worker calculation times\n",
    "worker_calc_data = []\n",
    "for p in processes:\n",
    "    try:\n",
    "        row = tk.dataframe.loc[('worker_calculation', p, matrix_size)]\n",
    "        worker_calc_data.append({\n",
    "            'procs': p,\n",
    "            'min': row['Min time/rank'],\n",
    "            'max': row['Max time/rank'],\n",
    "            'avg': row['Avg time/rank']\n",
    "        })\n",
    "    except KeyError:\n",
    "        print(f\"Warning: No data for worker_calculation with {p} processes\")\n",
    "\n",
    "df_calc = pd.DataFrame(worker_calc_data)\n",
    "\n",
    "# Plot Worker Calculation Times\n",
    "fig, ax = plt.subplots(figsize=(12, 7))\n",
    "ax.plot(df_calc['procs'], df_calc['min'], marker='o', linewidth=2, markersize=8, label='Min')\n",
    "ax.plot(df_calc['procs'], df_calc['max'], marker='s', linewidth=2, markersize=8, label='Max')\n",
    "ax.plot(df_calc['procs'], df_calc['avg'], marker='^', linewidth=2, markersize=8, label='Avg')\n",
    "ax.set_xlabel('Number of Processes')\n",
    "ax.set_ylabel('Time (seconds)')\n",
    "ax.set_title(f'Worker Calculation Time - Matrix Size {matrix_size}x{matrix_size}')\n",
    "ax.legend()\n",
    "ax.grid(True, alpha=0.3)\n",
    "ax.set_xticks(processes)\n",
    "plt.tight_layout()\n",
    "plt.savefig(f'worker_calculation_{matrix_size}.png', dpi=300, bbox_inches='tight')\n",
    "plt.show()"
   ]
  },
  {
   "cell_type": "code",
   "execution_count": null,
   "metadata": {},
   "outputs": [],
   "source": [
    "# Extract worker send times\n",
    "worker_send_data = []\n",
    "for p in processes:\n",
    "    try:\n",
    "        row = tk.dataframe.loc[('worker_send', p, matrix_size)]\n",
    "        worker_send_data.append({\n",
    "            'procs': p,\n",
    "            'min': row['Min time/rank'],\n",
    "            'max': row['Max time/rank'],\n",
    "            'avg': row['Avg time/rank']\n",
    "        })\n",
    "    except KeyError:\n",
    "        print(f\"Warning: No data for worker_send with {p} processes\")\n",
    "\n",
    "df_send = pd.DataFrame(worker_send_data)\n",
    "\n",
    "# Plot Worker Send Times\n",
    "fig, ax = plt.subplots(figsize=(12, 7))\n",
    "ax.plot(df_send['procs'], df_send['min'], marker='o', linewidth=2, markersize=8, label='Min')\n",
    "ax.plot(df_send['procs'], df_send['max'], marker='s', linewidth=2, markersize=8, label='Max')\n",
    "ax.plot(df_send['procs'], df_send['avg'], marker='^', linewidth=2, markersize=8, label='Avg')\n",
    "ax.set_xlabel('Number of Processes')\n",
    "ax.set_ylabel('Time (seconds)')\n",
    "ax.set_title(f'Worker Send Time - Matrix Size {matrix_size}x{matrix_size}')\n",
    "ax.legend()\n",
    "ax.grid(True, alpha=0.3)\n",
    "ax.set_xticks(processes)\n",
    "plt.tight_layout()\n",
    "plt.savefig(f'worker_send_{matrix_size}.png', dpi=300, bbox_inches='tight')\n",
    "plt.show()"
   ]
  },
  {
   "cell_type": "markdown",
   "metadata": {},
   "source": [
    "## Master Process Time Plots for Matrix Size 1024x1024"
   ]
  },
  {
   "cell_type": "code",
   "execution_count": null,
   "metadata": {},
   "outputs": [],
   "source": [
    "# Extract master times (whole computation, initialization, send/receive)\n",
    "whole_comp_data = []\n",
    "master_init_data = []\n",
    "master_sr_data = []\n",
    "\n",
    "for p in processes:\n",
    "    try:\n",
    "        # Whole computation\n",
    "        row_comp = tk.dataframe.loc[('whole_computation', p, matrix_size)]\n",
    "        whole_comp_data.append({\n",
    "            'procs': p,\n",
    "            'time': row_comp['Avg time/rank']\n",
    "        })\n",
    "        \n",
    "        # Master initialization\n",
    "        row_init = tk.dataframe.loc[('master_initialization', p, matrix_size)]\n",
    "        master_init_data.append({\n",
    "            'procs': p,\n",
    "            'time': row_init['Avg time/rank']\n",
    "        })\n",
    "        \n",
    "        # Master send/receive\n",
    "        row_sr = tk.dataframe.loc[('master_send_recieve', p, matrix_size)]\n",
    "        master_sr_data.append({\n",
    "            'procs': p,\n",
    "            'time': row_sr['Avg time/rank']\n",
    "        })\n",
    "    except KeyError as e:\n",
    "        print(f\"Warning: Missing data for {p} processes: {e}\")\n",
    "\n",
    "df_whole = pd.DataFrame(whole_comp_data)\n",
    "df_init = pd.DataFrame(master_init_data)\n",
    "df_sr = pd.DataFrame(master_sr_data)"
   ]
  },
  {
   "cell_type": "code",
   "execution_count": null,
   "metadata": {},
   "outputs": [],
   "source": [
    "# Plot Master Times\n",
    "fig, ax = plt.subplots(figsize=(12, 7))\n",
    "ax.plot(df_whole['procs'], df_whole['time'], marker='o', linewidth=2, markersize=8, label='Whole Computation')\n",
    "ax.plot(df_init['procs'], df_init['time'], marker='s', linewidth=2, markersize=8, label='Initialization')\n",
    "ax.plot(df_sr['procs'], df_sr['time'], marker='^', linewidth=2, markersize=8, label='Send & Receive')\n",
    "ax.set_xlabel('Number of Processes')\n",
    "ax.set_ylabel('Time (seconds)')\n",
    "ax.set_title(f'Master Process Times - Matrix Size {matrix_size}x{matrix_size}')\n",
    "ax.legend()\n",
    "ax.grid(True, alpha=0.3)\n",
    "ax.set_xticks(processes)\n",
    "plt.tight_layout()\n",
    "plt.savefig(f'master_times_{matrix_size}.png', dpi=300, bbox_inches='tight')\n",
    "plt.show()"
   ]
  },
  {
   "cell_type": "markdown",
   "metadata": {},
   "source": [
    "## View the raw data"
   ]
  },
  {
   "cell_type": "code",
   "execution_count": null,
   "metadata": {},
   "outputs": [],
   "source": [
    "# Display the dataframes to verify the data\n",
    "print(\"Worker Receive Times:\")\n",
    "print(df_receive)\n",
    "print(\"\\nWorker Calculation Times:\")\n",
    "print(df_calc)\n",
    "print(\"\\nWorker Send Times:\")\n",
    "print(df_send)\n",
    "print(\"\\nMaster Times:\")\n",
    "print(\"Whole Computation:\")\n",
    "print(df_whole)\n",
    "print(\"\\nInitialization:\")\n",
    "print(df_init)\n",
    "print(\"\\nSend & Receive:\")\n",
    "print(df_sr)"
   ]
  }
 ],
 "metadata": {
  "kernelspec": {
   "display_name": ".venv",
   "language": "python",
   "name": "python3"
  },
  "language_info": {
   "codemirror_mode": {
    "name": "ipython",
    "version": 3
   },
   "file_extension": ".py",
   "mimetype": "text/x-python",
   "name": "python",
   "nbconvert_exporter": "python",
   "pygments_lexer": "ipython3",
   "version": "3.11.0"
  }
 },
 "nbformat": 4,
 "nbformat_minor": 4
}
